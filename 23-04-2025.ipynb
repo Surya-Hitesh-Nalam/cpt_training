{
 "cells": [
  {
   "cell_type": "code",
   "execution_count": 1,
   "id": "48ca3040-05b1-48a7-a841-a6792d3c0663",
   "metadata": {},
   "outputs": [
    {
     "name": "stdout",
     "output_type": "stream",
     "text": [
      "[0, 1, 2, 3, 4]\n"
     ]
    }
   ],
   "source": [
    "a=[x for x in range(5)]\n",
    "print(a)"
   ]
  },
  {
   "cell_type": "code",
   "execution_count": 13,
   "id": "2e01754b-d0a3-4cc8-83f3-a36272e60e45",
   "metadata": {},
   "outputs": [
    {
     "name": "stdout",
     "output_type": "stream",
     "text": [
      "['APLE', 'KIWI', 'BANANA']\n"
     ]
    }
   ],
   "source": [
    "words=['aple','kiwi','banana']\n",
    "upper=[word.upper() for word in words]\n",
    "print(upper)"
   ]
  },
  {
   "cell_type": "code",
   "execution_count": 15,
   "id": "1bab0fee-1a96-4c93-b624-410539e44e54",
   "metadata": {},
   "outputs": [
    {
     "name": "stdout",
     "output_type": "stream",
     "text": [
      "[1, 2, 3, 4, 5, 6, 7, 8, 9]\n"
     ]
    }
   ],
   "source": [
    "matrix=[[1,2,3],[4,5,6],[7,8,9]]\n",
    "flat=[num for row in matrix for num in row]\n",
    "print(flat)"
   ]
  },
  {
   "cell_type": "code",
   "execution_count": 30,
   "id": "bd1d02b1-7ece-4c5c-8b1a-c947298987b1",
   "metadata": {},
   "outputs": [
    {
     "name": "stdout",
     "output_type": "stream",
     "text": [
      "[9, 9, 9, 1, 2]\n"
     ]
    }
   ],
   "source": [
    "#using logical condition,replace all the negative numbers with zeroes\n",
    "nums=[-2,-1,0,1,2]\n",
    "nonneg=[x if x>=1 else 0 for x in nums]\n",
    "print(nonneg)\n"
   ]
  },
  {
   "cell_type": "code",
   "execution_count": 34,
   "id": "319acb87-ad98-43d3-9fc2-dbb761086666",
   "metadata": {},
   "outputs": [
    {
     "name": "stdout",
     "output_type": "stream",
     "text": [
      "[5, 4, 6]\n"
     ]
    }
   ],
   "source": [
    "words=['apple','kiwi','banana']\n",
    "fc=[len(word) for word in words]\n",
    "print(fc)"
   ]
  },
  {
   "cell_type": "code",
   "execution_count": 36,
   "id": "b7f77bab-90cd-4b15-b67b-1c8f03f246a8",
   "metadata": {},
   "outputs": [
    {
     "name": "stdout",
     "output_type": "stream",
     "text": [
      "['a', 'k', 'b']\n"
     ]
    }
   ],
   "source": [
    "words=['apple','kiwi','banana']\n",
    "fc=[word[0] for word in words]\n",
    "print(fc)"
   ]
  },
  {
   "cell_type": "code",
   "execution_count": 38,
   "id": "65551140-9b5e-4f28-ae62-e2375eb973eb",
   "metadata": {},
   "outputs": [
    {
     "name": "stdout",
     "output_type": "stream",
     "text": [
      "[1, 2, 3, 4, 5]\n"
     ]
    }
   ],
   "source": [
    "#filtering none values\n",
    "items=[1,None,2,None,3,4,5]\n",
    "valid=[x for x in items if x is not None]\n",
    "print(valid)\n"
   ]
  },
  {
   "cell_type": "code",
   "execution_count": 46,
   "id": "5fb39e4f-b852-4d36-b6fc-b672fba68466",
   "metadata": {},
   "outputs": [
    {
     "name": "stdout",
     "output_type": "stream",
     "text": [
      "[('vijay', 33), ('vijay', 44), ('Mark', 33), ('Mark', 44)]\n"
     ]
    }
   ],
   "source": [
    "names=['vijay','Mark']\n",
    "ages=[33,44]\n",
    "pair=[(name,age) for name in names for age in ages]\n",
    "print(pair)"
   ]
  },
  {
   "cell_type": "code",
   "execution_count": 64,
   "id": "b2b9a1d7-bed6-4514-84f4-97c2e8603365",
   "metadata": {},
   "outputs": [
    {
     "name": "stdout",
     "output_type": "stream",
     "text": [
      "['e', 'o', 'u', 'e']\n"
     ]
    }
   ],
   "source": [
    "text=\"hello students\"\n",
    "ovals=[x for x in text if x.lower() in 'a,e,i,o,u']\n",
    "print(ovals)"
   ]
  },
  {
   "cell_type": "code",
   "execution_count": 97,
   "id": "1ae87918-ae34-41d0-907e-7153943dc06f",
   "metadata": {},
   "outputs": [
    {
     "name": "stdin",
     "output_type": "stream",
     "text": [
      "enter the size of the matrix: 4\n"
     ]
    },
    {
     "name": "stdout",
     "output_type": "stream",
     "text": [
      "$ $ $ $ \n",
      "$ $ $ $ \n",
      "$ $ $ $ \n",
      "$ $ $ $ \n"
     ]
    }
   ],
   "source": [
    "n=int(input(\"enter the size of the matrix:\"))\n",
    "for i in range(n):\n",
    "    for j in range(n):\n",
    "        print('$', end=\" \")\n",
    "    print()"
   ]
  },
  {
   "cell_type": "code",
   "execution_count": 99,
   "id": "3a41f8f2-81fa-4954-9687-9d0d588660c4",
   "metadata": {},
   "outputs": [
    {
     "name": "stdin",
     "output_type": "stream",
     "text": [
      "enter the size of the matrix: 5\n"
     ]
    },
    {
     "name": "stdout",
     "output_type": "stream",
     "text": [
      "$ $ $ $ $ \n",
      "$       $ \n",
      "$       $ \n",
      "$       $ \n",
      "$ $ $ $ $ \n"
     ]
    }
   ],
   "source": [
    "n=int(input(\"enter the size of the matrix:\"))\n",
    "for i in range(n):\n",
    "    for j in range(n):\n",
    "        if i==0 or j==0 or i==n-1 or j==n-1:\n",
    "            print('$', end=\" \")\n",
    "        else:\n",
    "            print(' ',end=' ')\n",
    "    print()"
   ]
  },
  {
   "cell_type": "code",
   "execution_count": 111,
   "id": "f1ec6c86-e6a1-494e-9614-58d166798356",
   "metadata": {},
   "outputs": [
    {
     "name": "stderr",
     "output_type": "stream",
     "text": [
      "<>:4: SyntaxWarning: invalid decimal literal\n",
      "<>:4: SyntaxWarning: invalid decimal literal\n",
      "C:\\Users\\ComputerCenter3\\AppData\\Local\\Temp\\ipykernel_13728\\59066832.py:4: SyntaxWarning: invalid decimal literal\n",
      "  if i==0 or j==0 or i==n-1 or j==n-1or i==j or (i+j)==n-1:\n"
     ]
    },
    {
     "name": "stdin",
     "output_type": "stream",
     "text": [
      "enter the size of the matrix: 9\n"
     ]
    },
    {
     "name": "stdout",
     "output_type": "stream",
     "text": [
      "$ $ $ $ $ $ $ $ $ \n",
      "$ $           $ $ \n",
      "$   $       $   $ \n",
      "$     $   $     $ \n",
      "$       $       $ \n",
      "$     $   $     $ \n",
      "$   $       $   $ \n",
      "$ $           $ $ \n",
      "$ $ $ $ $ $ $ $ $ \n"
     ]
    }
   ],
   "source": [
    "n=int(input(\"enter the size of the matrix:\"))\n",
    "for i in range(n):\n",
    "    for j in range(n):\n",
    "        if i==0 or j==0 or i==n-1 or j==n-1or i==j or (i+j)==n-1:\n",
    "            print('$', end=\" \")\n",
    "        else:\n",
    "            print(' ',end=' ')\n",
    "    print()"
   ]
  },
  {
   "cell_type": "code",
   "execution_count": 113,
   "id": "318bd9c5-b263-4631-8e70-f43b1c81b4ab",
   "metadata": {},
   "outputs": [
    {
     "name": "stdin",
     "output_type": "stream",
     "text": [
      "enter the size of the matrix: 5\n"
     ]
    },
    {
     "name": "stdout",
     "output_type": "stream",
     "text": [
      "$         \n",
      "$ $       \n",
      "$   $     \n",
      "$     $   \n",
      "$ $ $ $ $ \n"
     ]
    }
   ],
   "source": [
    "n=int(input(\"enter the size of the matrix:\"))\n",
    "for i in range(n):\n",
    "    for j in range(n):\n",
    "        if i==j or j==0 or i==n-1:\n",
    "            print('$', end=\" \")\n",
    "        else:\n",
    "            print(' ',end=' ')\n",
    "    print()"
   ]
  },
  {
   "cell_type": "code",
   "execution_count": 115,
   "id": "41937a06-6d7c-4264-9c55-9c0c11c19476",
   "metadata": {},
   "outputs": [
    {
     "name": "stdout",
     "output_type": "stream",
     "text": [
      "        * \n",
      "      * * * \n",
      "    * * * * * \n",
      "  * * * * * * * \n",
      "* * * * * * * * * \n"
     ]
    }
   ],
   "source": [
    "rows=5\n",
    "for i in range(rows):\n",
    "    for j in range(rows-i-1):\n",
    "        print(\" \",end=' ')\n",
    "    for k in range(2*i+1):\n",
    "        print(\"*\",end=' ')\n",
    "    print()\n",
    "        "
   ]
  },
  {
   "cell_type": "code",
   "execution_count": 133,
   "id": "4215eb50-5377-40a1-bd99-df8fc785c782",
   "metadata": {},
   "outputs": [
    {
     "name": "stdout",
     "output_type": "stream",
     "text": [
      "        0 \n",
      "      1 1 1 \n",
      "    2 2 2 2 2 \n",
      "  3 3 3 3 3 3 3 \n",
      "4 4 4 4 4 4 4 4 4 \n"
     ]
    }
   ],
   "source": [
    "rows=5\n",
    "for i in range(rows):\n",
    "    for j in range(rows-i-1):\n",
    "        print(\" \",end=' ')\n",
    "    for k in range(2*i+1):\n",
    "        print(i,end=' ')\n",
    "    print()\n",
    "        "
   ]
  },
  {
   "cell_type": "code",
   "execution_count": 127,
   "id": "9bb883f3-b5f2-42a7-bc54-bc5f3cc6e9bc",
   "metadata": {},
   "outputs": [
    {
     "name": "stdout",
     "output_type": "stream",
     "text": [
      "        1   \n",
      "      1   1   \n",
      "    1   2   1   \n",
      "  1   3   3   1   \n",
      "1   4   6   4   1   \n"
     ]
    }
   ],
   "source": [
    "rows=5\n",
    "for i in range(rows):\n",
    "    num=1\n",
    "    for j in range(rows-i-1):\n",
    "        print(\" \",end=' ')\n",
    "    for k in range(i+1):\n",
    "        print(num,end='   ')\n",
    "        num=num*(i-k)//(k+1)\n",
    "    print()\n",
    "        "
   ]
  },
  {
   "cell_type": "code",
   "execution_count": null,
   "id": "2f705f3d-33d2-46eb-9562-1bab1f33b7b5",
   "metadata": {},
   "outputs": [],
   "source": []
  }
 ],
 "metadata": {
  "kernelspec": {
   "display_name": "Python 3 (ipykernel)",
   "language": "python",
   "name": "python3"
  },
  "language_info": {
   "codemirror_mode": {
    "name": "ipython",
    "version": 3
   },
   "file_extension": ".py",
   "mimetype": "text/x-python",
   "name": "python",
   "nbconvert_exporter": "python",
   "pygments_lexer": "ipython3",
   "version": "3.12.7"
  }
 },
 "nbformat": 4,
 "nbformat_minor": 5
}
